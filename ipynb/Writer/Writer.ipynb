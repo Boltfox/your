{
 "cells": [
  {
   "cell_type": "markdown",
   "metadata": {},
   "source": [
    "# Writing files"
   ]
  },
  {
   "cell_type": "code",
   "execution_count": 1,
   "metadata": {},
   "outputs": [],
   "source": [
    "from your import Your, Writer\n",
    "import os\n",
    "import numpy as np\n",
    "import tempfile\n",
    "from urllib.request import urlretrieve"
   ]
  },
  {
   "cell_type": "code",
   "execution_count": 2,
   "metadata": {},
   "outputs": [],
   "source": [
    "import logging\n",
    "\n",
    "logger = logging.getLogger()\n",
    "logger = logging.basicConfig(\n",
    "    level=logging.INFO,\n",
    "    format=\"%(asctime)s - %(name)s - %(threadName)s - %(levelname)s -\" \" %(message)s\",\n",
    ")"
   ]
  },
  {
   "cell_type": "markdown",
   "metadata": {},
   "source": [
    "We can write + convert files using the [Writer](https://thepetabyteproject.github.io/your/writer/#writer) class in [Your](https://thepetabyteproject.github.io/your/your/#your). Let's read a Filterbank file and write out a PSRFITS and a Filterbank file"
   ]
  },
  {
   "cell_type": "code",
   "execution_count": 3,
   "metadata": {},
   "outputs": [],
   "source": [
    "temp_dir = tempfile.TemporaryDirectory()\n",
    "download_path = str(temp_dir.name) + \"/FRB180417.fil\"\n",
    "url = \"https://zenodo.org/record/3905426/files/FRB180417.fil\"\n",
    "urlretrieve(\n",
    "    url, download_path,\n",
    ")\n",
    "fil_file = download_path\n",
    "your_original_file = Your(fil_file)"
   ]
  },
  {
   "cell_type": "markdown",
   "metadata": {},
   "source": [
    "While writing files you can also select the required channel and spectra range. Just give the required ranges as input to the Writer class.  "
   ]
  },
  {
   "cell_type": "code",
   "execution_count": 4,
   "metadata": {},
   "outputs": [],
   "source": [
    "writer_object = Writer(\n",
    "    your_original_file,\n",
    "    nstart=0,\n",
    "    nsamp=10,\n",
    "    c_min=10,\n",
    "    c_max=100,\n",
    "    outdir=\".\",\n",
    "    outname=\"filfromfil\",\n",
    ")"
   ]
  },
  {
   "cell_type": "markdown",
   "metadata": {},
   "source": [
    "## Writing Filterbanks\n",
    "\n",
    "To write a filterbank we use the [`to_fil`](https://thepetabyteproject.github.io/your/writer/#to_fil) method,"
   ]
  },
  {
   "cell_type": "code",
   "execution_count": 5,
   "metadata": {},
   "outputs": [
    {
     "data": {
      "application/vnd.jupyter.widget-view+json": {
       "model_id": "b568dfd9ad7c43dd996a56a417ee4e55",
       "version_major": 2,
       "version_minor": 0
      },
      "text/plain": [
       "Output()"
      ]
     },
     "metadata": {},
     "output_type": "display_data"
    },
    {
     "data": {
      "text/html": [
       "<pre style=\"white-space:pre;overflow-x:auto;line-height:normal;font-family:Menlo,'DejaVu Sans Mono',consolas,'Courier New',monospace\"></pre>\n"
      ],
      "text/plain": [
       "<rich.jupyter.JupyterRenderable at 0x7f29c56fe518>"
      ]
     },
     "metadata": {},
     "output_type": "display_data"
    },
    {
     "data": {
      "text/html": [
       "<pre style=\"white-space:pre;overflow-x:auto;line-height:normal;font-family:Menlo,'DejaVu Sans Mono',consolas,'Courier New',monospace\"><span style=\"color: #008000\">Writing...</span> <span style=\"color: #3a3a3a\">━━━━━━━━━━━━━━━━━━━━━━━━━━━━━━━━━━━━━━━━</span> <span style=\"color: #800080\">  0%</span> <span style=\"color: #008080\">-:--:--</span>\n",
       "</pre>\n"
      ],
      "text/plain": [
       "<rich.jupyter.JupyterRenderable at 0x7f29c508b080>"
      ]
     },
     "metadata": {},
     "output_type": "display_data"
    },
    {
     "data": {
      "text/html": [
       "<pre style=\"white-space:pre;overflow-x:auto;line-height:normal;font-family:Menlo,'DejaVu Sans Mono',consolas,'Courier New',monospace\"><span style=\"color: #008000\">Writing...</span> <span style=\"color: #729c1f\">━━━━━━━━━━━━━━━━━━━━━━━━━━━━━━━━━━━━━━━━</span> <span style=\"color: #800080\">100%</span> <span style=\"color: #008080\">0:00:00</span>\n",
       "</pre>\n"
      ],
      "text/plain": [
       "<rich.jupyter.JupyterRenderable at 0x7f29c508b198>"
      ]
     },
     "metadata": {},
     "output_type": "display_data"
    }
   ],
   "source": [
    "writer_object.to_fil()"
   ]
  },
  {
   "cell_type": "markdown",
   "metadata": {},
   "source": [
    "We can just read this Filterbank using [Your](https://thepetabyteproject.github.io/your/your/#your) to make sure that the header parameters and the data are correctly written."
   ]
  },
  {
   "cell_type": "code",
   "execution_count": 6,
   "metadata": {
    "scrolled": false
   },
   "outputs": [
    {
     "data": {
      "text/plain": [
       "Unified Header:\n",
       "  \"basename\": \"filfromfil\"\n",
       "  \"bw\": -90.0\n",
       "  \"center_freq\": 1410.0\n",
       "  \"dec_deg\": 13.964475555555554\n",
       "  \"dtype\": \"uint8\"\n",
       "  \"fch1\": 1455.0\n",
       "  \"filelist\": [\n",
       "    \"filfromfil.fil\"\n",
       "  ]\n",
       "  \"filename\": \"filfromfil.fil\"\n",
       "  \"foff\": -1.0\n",
       "  \"format\": \"fil\"\n",
       "  \"frequency_decimation_factor\": 1\n",
       "  \"gb\": 75.61933243565039\n",
       "  \"gl\": 97.96004079061271\n",
       "  \"native_foff\": -1.0\n",
       "  \"native_nchans\": 90\n",
       "  \"native_nspectra\": 10.0\n",
       "  \"native_tsamp\": 0.00126646875\n",
       "  \"nbits\": 8\n",
       "  \"nchans\": 90\n",
       "  \"npol\": 1\n",
       "  \"nspectra\": 10\n",
       "  \"ra_deg\": 186.65681708333335\n",
       "  \"source_name\": \"src1\"\n",
       "  \"time_decimation_factor\": 1\n",
       "  \"tsamp\": 0.00126646875\n",
       "  \"tstart\": 58682.620316710374\n",
       "  \"tstart_utc\": \"2019-07-18T14:53:15.364\""
      ]
     },
     "execution_count": 6,
     "metadata": {},
     "output_type": "execute_result"
    }
   ],
   "source": [
    "your_written_filterbank = Your(\"filfromfil.fil\")\n",
    "your_written_filterbank.your_header"
   ]
  },
  {
   "cell_type": "markdown",
   "metadata": {},
   "source": [
    "We can also compare data from both the original file and the newly written file:"
   ]
  },
  {
   "cell_type": "code",
   "execution_count": 7,
   "metadata": {},
   "outputs": [],
   "source": [
    "original_data = your_original_file.get_data(0, 10)[:, 10:100]\n",
    "filterbank_data = your_written_filterbank.get_data(0, 10)"
   ]
  },
  {
   "cell_type": "code",
   "execution_count": 8,
   "metadata": {},
   "outputs": [
    {
     "data": {
      "text/plain": [
       "True"
      ]
     },
     "execution_count": 8,
     "metadata": {},
     "output_type": "execute_result"
    }
   ],
   "source": [
    "np.array_equal(original_data, filterbank_data)"
   ]
  },
  {
   "cell_type": "markdown",
   "metadata": {},
   "source": [
    "Looks good!\n",
    "\n",
    "## Writing PSRFITS\n",
    "\n",
    "\n",
    "\n",
    "All the inputs defined while declaring Writer are still gonna be used. Let's change the outname for clarity\n",
    "and select some channels"
   ]
  },
  {
   "cell_type": "code",
   "execution_count": 9,
   "metadata": {},
   "outputs": [],
   "source": [
    "writer_object = Writer(\n",
    "    your_original_file,\n",
    "    nstart=0,\n",
    "    nsamp=10,\n",
    "    c_min=0,\n",
    "    c_max=100,\n",
    "    outdir=\".\",\n",
    "    outname=\"fitsfromfil\",\n",
    ")"
   ]
  },
  {
   "cell_type": "code",
   "execution_count": 10,
   "metadata": {},
   "outputs": [],
   "source": [
    "writer_object.outname = \"fitsfromfil\"\n",
    "writer_object.c_min = 0\n",
    "writer_object.c_max = 100"
   ]
  },
  {
   "cell_type": "markdown",
   "metadata": {},
   "source": [
    "To write a PSRFITS we use the [`to_fits`](https://thepetabyteproject.github.io/your/writer/#to_fits) method,"
   ]
  },
  {
   "cell_type": "code",
   "execution_count": 11,
   "metadata": {},
   "outputs": [
    {
     "name": "stderr",
     "output_type": "stream",
     "text": [
      "2020-11-02 13:29:04,530 - root - MainThread - INFO - ObsInfo updated with relevant parameters\n",
      "2020-11-02 13:29:04,531 - your.formats.fitswriter - MainThread - INFO - Setting the following info to be written in ./fitsfromfil.fits \n",
      " {\n",
      "    \"ant_x\": -1601185.63,\n",
      "    \"ant_y\": -5041978.15,\n",
      "    \"ant_z\": 3554876.43,\n",
      "    \"bmaj_deg\": 0.0,\n",
      "    \"bmin_deg\": 0.0,\n",
      "    \"bpa_deg\": 0.0,\n",
      "    \"bw\": -100.0,\n",
      "    \"chan_bw\": -1.0,\n",
      "    \"dec_str\": \"13:57:52.1120\",\n",
      "    \"dt\": 0.00126646875,\n",
      "    \"fcenter\": 1415.0,\n",
      "    \"file_date\": \"2020-11-02T18:29:04\",\n",
      "    \"longitude\": -107.61833443381258,\n",
      "    \"nbits\": 8,\n",
      "    \"nchan\": 100,\n",
      "    \"nsblk\": 10,\n",
      "    \"nsuboffs\": 0.0,\n",
      "    \"obs_date\": \"2019-07-18T14:53:15\",\n",
      "    \"observer\": \"Human\",\n",
      "    \"proj_id\": \"Awesome_Project\",\n",
      "    \"ra_str\": \"12:26:37.6361\",\n",
      "    \"scan_len\": 0.0126646875,\n",
      "    \"src_name\": \"src1\",\n",
      "    \"stt_imjd\": 58682,\n",
      "    \"stt_lst\": 12438.193191755068,\n",
      "    \"stt_offs\": 0.3637763159349561,\n",
      "    \"stt_smjd\": 53595,\n",
      "    \"telescope\": \"VLA\"\n",
      "}\n",
      "2020-11-02 13:29:04,542 - root - MainThread - INFO - Building the PSRFITS table\n",
      "2020-11-02 13:29:04,569 - root - MainThread - INFO - Writing PSRFITS table to file: ./fitsfromfil.fits\n",
      "2020-11-02 13:29:04,657 - root - MainThread - INFO - Header information written in ./fitsfromfil.fits\n",
      "2020-11-02 13:29:04,658 - your.writer - MainThread - INFO - Filling PSRFITS file with data\n",
      "2020-11-02 13:29:04,678 - your.writer - MainThread - INFO - Number of subints to write 1\n"
     ]
    },
    {
     "data": {
      "application/vnd.jupyter.widget-view+json": {
       "model_id": "84eba871dedb4e47816c680668d8a420",
       "version_major": 2,
       "version_minor": 0
      },
      "text/plain": [
       "Output()"
      ]
     },
     "metadata": {},
     "output_type": "display_data"
    },
    {
     "data": {
      "text/html": [
       "<pre style=\"white-space:pre;overflow-x:auto;line-height:normal;font-family:Menlo,'DejaVu Sans Mono',consolas,'Courier New',monospace\"></pre>\n"
      ],
      "text/plain": [
       "<rich.jupyter.JupyterRenderable at 0x7f29c5056588>"
      ]
     },
     "metadata": {},
     "output_type": "display_data"
    },
    {
     "data": {
      "text/html": [
       "<pre style=\"white-space:pre;overflow-x:auto;line-height:normal;font-family:Menlo,'DejaVu Sans Mono',consolas,'Courier New',monospace\"><span style=\"color: #008000\">Writing...</span> <span style=\"color: #3a3a3a\">━━━━━━━━━━━━━━━━━━━━━━━━━━━━━━━━━━━━━━━━</span> <span style=\"color: #800080\">  0%</span> <span style=\"color: #008080\">-:--:--</span>\n",
       "</pre>\n"
      ],
      "text/plain": [
       "<rich.jupyter.JupyterRenderable at 0x7f29c50566a0>"
      ]
     },
     "metadata": {},
     "output_type": "display_data"
    },
    {
     "name": "stderr",
     "output_type": "stream",
     "text": [
      "2020-11-02 13:29:04,701 - your.writer - MainThread - INFO - Writing data to ./fitsfromfil.fits from subint = 0 to 1.\n"
     ]
    },
    {
     "data": {
      "text/html": [
       "<pre style=\"white-space:pre;overflow-x:auto;line-height:normal;font-family:Menlo,'DejaVu Sans Mono',consolas,'Courier New',monospace\"><span style=\"color: #008000\">Writing...</span> <span style=\"color: #729c1f\">━━━━━━━━━━━━━━━━━━━━━━━━━━━━━━━━━━━━━━━━</span> <span style=\"color: #800080\">100%</span> <span style=\"color: #008080\">0:00:00</span>\n",
       "</pre>\n"
      ],
      "text/plain": [
       "<rich.jupyter.JupyterRenderable at 0x7f29c50562b0>"
      ]
     },
     "metadata": {},
     "output_type": "display_data"
    },
    {
     "name": "stderr",
     "output_type": "stream",
     "text": [
      "2020-11-02 13:29:05,464 - your.writer - MainThread - INFO - All spectra written to ./fitsfromfil.fits\n"
     ]
    }
   ],
   "source": [
    "writer_object.to_fits()"
   ]
  },
  {
   "cell_type": "markdown",
   "metadata": {},
   "source": [
    "Similar to reading the PSRFITS file, we can also read a filterbank file and convert to both formats by first defining a [`writer_object`](https://thepetabyteproject.github.io/your/writer/) and using the [`to_fits`](https://thepetabyteproject.github.io/your/writer/#to_fits) and [`to_fil`](https://thepetabyteproject.github.io/your/writer/#to_fil) methods."
   ]
  }
 ],
 "metadata": {
  "kernelspec": {
   "display_name": "Python 3",
   "language": "python",
   "name": "python3"
  },
  "language_info": {
   "codemirror_mode": {
    "name": "ipython",
    "version": 3
   },
   "file_extension": ".py",
   "mimetype": "text/x-python",
   "name": "python",
   "nbconvert_exporter": "python",
   "pygments_lexer": "ipython3",
   "version": "3.6.8"
  }
 },
 "nbformat": 4,
 "nbformat_minor": 2
}
